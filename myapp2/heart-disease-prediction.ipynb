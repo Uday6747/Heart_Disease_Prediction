{
 "cells": [
  {
   "cell_type": "markdown",
   "id": "e17d3fca",
   "metadata": {
    "papermill": {
     "duration": 0.011982,
     "end_time": "2023-06-22T04:11:21.395582",
     "exception": false,
     "start_time": "2023-06-22T04:11:21.383600",
     "status": "completed"
    },
    "tags": []
   },
   "source": [
    "### Importing the Dependencies"
   ]
  },
  {
   "cell_type": "code",
   "execution_count": 38,
   "id": "672273e2",
   "metadata": {
    "execution": {
     "iopub.execute_input": "2023-06-22T04:11:21.418820Z",
     "iopub.status.busy": "2023-06-22T04:11:21.418034Z",
     "iopub.status.idle": "2023-06-22T04:11:23.281325Z",
     "shell.execute_reply": "2023-06-22T04:11:23.279367Z"
    },
    "papermill": {
     "duration": 1.877751,
     "end_time": "2023-06-22T04:11:23.284166",
     "exception": false,
     "start_time": "2023-06-22T04:11:21.406415",
     "status": "completed"
    },
    "tags": []
   },
   "outputs": [],
   "source": [
    "import numpy as np\n",
    "import pandas as pd\n",
    "from sklearn.model_selection import train_test_split\n",
    "from sklearn.linear_model import LogisticRegression\n",
    "from sklearn.metrics import accuracy_score\n",
    "\n",
    "import warnings \n",
    "warnings.simplefilter('ignore')"
   ]
  },
  {
   "cell_type": "markdown",
   "id": "2f585ef1",
   "metadata": {
    "papermill": {
     "duration": 0.009797,
     "end_time": "2023-06-22T04:11:23.304320",
     "exception": false,
     "start_time": "2023-06-22T04:11:23.294523",
     "status": "completed"
    },
    "tags": []
   },
   "source": [
    "# Data Collection and Processing"
   ]
  },
  {
   "cell_type": "code",
   "execution_count": 39,
   "id": "5e1dd494",
   "metadata": {
    "execution": {
     "iopub.execute_input": "2023-06-22T04:11:23.327275Z",
     "iopub.status.busy": "2023-06-22T04:11:23.326760Z",
     "iopub.status.idle": "2023-06-22T04:11:23.360318Z",
     "shell.execute_reply": "2023-06-22T04:11:23.358880Z"
    },
    "papermill": {
     "duration": 0.049054,
     "end_time": "2023-06-22T04:11:23.363885",
     "exception": false,
     "start_time": "2023-06-22T04:11:23.314831",
     "status": "completed"
    },
    "tags": []
   },
   "outputs": [],
   "source": [
    "# loading the csv data to a pandas DataFrame\n",
    "heart_df = pd.read_csv('Heart_Disease_Prediction.csv')"
   ]
  },
  {
   "cell_type": "code",
   "execution_count": 40,
   "id": "332aacaf",
   "metadata": {
    "execution": {
     "iopub.execute_input": "2023-06-22T04:11:23.389776Z",
     "iopub.status.busy": "2023-06-22T04:11:23.388576Z",
     "iopub.status.idle": "2023-06-22T04:11:23.457542Z",
     "shell.execute_reply": "2023-06-22T04:11:23.456254Z"
    },
    "papermill": {
     "duration": 0.085501,
     "end_time": "2023-06-22T04:11:23.460599",
     "exception": false,
     "start_time": "2023-06-22T04:11:23.375098",
     "status": "completed"
    },
    "tags": []
   },
   "outputs": [
    {
     "data": {
      "text/html": [
       "<div>\n",
       "<style scoped>\n",
       "    .dataframe tbody tr th:only-of-type {\n",
       "        vertical-align: middle;\n",
       "    }\n",
       "\n",
       "    .dataframe tbody tr th {\n",
       "        vertical-align: top;\n",
       "    }\n",
       "\n",
       "    .dataframe thead th {\n",
       "        text-align: right;\n",
       "    }\n",
       "</style>\n",
       "<table border=\"1\" class=\"dataframe\">\n",
       "  <thead>\n",
       "    <tr style=\"text-align: right;\">\n",
       "      <th></th>\n",
       "      <th>Age</th>\n",
       "      <th>Sex</th>\n",
       "      <th>Chest pain type</th>\n",
       "      <th>BP</th>\n",
       "      <th>Cholesterol</th>\n",
       "      <th>FBS over 120</th>\n",
       "      <th>EKG results</th>\n",
       "      <th>Max HR</th>\n",
       "      <th>Exercise angina</th>\n",
       "      <th>ST depression</th>\n",
       "      <th>Slope of ST</th>\n",
       "      <th>Number of vessels fluro</th>\n",
       "      <th>Thallium</th>\n",
       "      <th>Heart Disease</th>\n",
       "    </tr>\n",
       "  </thead>\n",
       "  <tbody>\n",
       "    <tr>\n",
       "      <th>0</th>\n",
       "      <td>70</td>\n",
       "      <td>1</td>\n",
       "      <td>4</td>\n",
       "      <td>130</td>\n",
       "      <td>322</td>\n",
       "      <td>0</td>\n",
       "      <td>2</td>\n",
       "      <td>109</td>\n",
       "      <td>0</td>\n",
       "      <td>2.4</td>\n",
       "      <td>2</td>\n",
       "      <td>3</td>\n",
       "      <td>3</td>\n",
       "      <td>Presence</td>\n",
       "    </tr>\n",
       "    <tr>\n",
       "      <th>1</th>\n",
       "      <td>67</td>\n",
       "      <td>0</td>\n",
       "      <td>3</td>\n",
       "      <td>115</td>\n",
       "      <td>564</td>\n",
       "      <td>0</td>\n",
       "      <td>2</td>\n",
       "      <td>160</td>\n",
       "      <td>0</td>\n",
       "      <td>1.6</td>\n",
       "      <td>2</td>\n",
       "      <td>0</td>\n",
       "      <td>7</td>\n",
       "      <td>Absence</td>\n",
       "    </tr>\n",
       "    <tr>\n",
       "      <th>2</th>\n",
       "      <td>57</td>\n",
       "      <td>1</td>\n",
       "      <td>2</td>\n",
       "      <td>124</td>\n",
       "      <td>261</td>\n",
       "      <td>0</td>\n",
       "      <td>0</td>\n",
       "      <td>141</td>\n",
       "      <td>0</td>\n",
       "      <td>0.3</td>\n",
       "      <td>1</td>\n",
       "      <td>0</td>\n",
       "      <td>7</td>\n",
       "      <td>Presence</td>\n",
       "    </tr>\n",
       "    <tr>\n",
       "      <th>3</th>\n",
       "      <td>64</td>\n",
       "      <td>1</td>\n",
       "      <td>4</td>\n",
       "      <td>128</td>\n",
       "      <td>263</td>\n",
       "      <td>0</td>\n",
       "      <td>0</td>\n",
       "      <td>105</td>\n",
       "      <td>1</td>\n",
       "      <td>0.2</td>\n",
       "      <td>2</td>\n",
       "      <td>1</td>\n",
       "      <td>7</td>\n",
       "      <td>Absence</td>\n",
       "    </tr>\n",
       "    <tr>\n",
       "      <th>4</th>\n",
       "      <td>74</td>\n",
       "      <td>0</td>\n",
       "      <td>2</td>\n",
       "      <td>120</td>\n",
       "      <td>269</td>\n",
       "      <td>0</td>\n",
       "      <td>2</td>\n",
       "      <td>121</td>\n",
       "      <td>1</td>\n",
       "      <td>0.2</td>\n",
       "      <td>1</td>\n",
       "      <td>1</td>\n",
       "      <td>3</td>\n",
       "      <td>Absence</td>\n",
       "    </tr>\n",
       "  </tbody>\n",
       "</table>\n",
       "</div>"
      ],
      "text/plain": [
       "   Age  Sex  Chest pain type   BP  Cholesterol  FBS over 120  EKG results  \\\n",
       "0   70    1                4  130          322             0            2   \n",
       "1   67    0                3  115          564             0            2   \n",
       "2   57    1                2  124          261             0            0   \n",
       "3   64    1                4  128          263             0            0   \n",
       "4   74    0                2  120          269             0            2   \n",
       "\n",
       "   Max HR  Exercise angina  ST depression  Slope of ST  \\\n",
       "0     109                0            2.4            2   \n",
       "1     160                0            1.6            2   \n",
       "2     141                0            0.3            1   \n",
       "3     105                1            0.2            2   \n",
       "4     121                1            0.2            1   \n",
       "\n",
       "   Number of vessels fluro  Thallium Heart Disease  \n",
       "0                        3         3      Presence  \n",
       "1                        0         7       Absence  \n",
       "2                        0         7      Presence  \n",
       "3                        1         7       Absence  \n",
       "4                        1         3       Absence  "
      ]
     },
     "execution_count": 40,
     "metadata": {},
     "output_type": "execute_result"
    }
   ],
   "source": [
    "# Print first 5 rows of the datset.\n",
    "heart_df.head() "
   ]
  },
  {
   "cell_type": "code",
   "execution_count": 41,
   "id": "1f4aafb8",
   "metadata": {
    "execution": {
     "iopub.execute_input": "2023-06-22T04:11:23.484091Z",
     "iopub.status.busy": "2023-06-22T04:11:23.483001Z",
     "iopub.status.idle": "2023-06-22T04:11:23.500109Z",
     "shell.execute_reply": "2023-06-22T04:11:23.498942Z"
    },
    "papermill": {
     "duration": 0.031592,
     "end_time": "2023-06-22T04:11:23.502787",
     "exception": false,
     "start_time": "2023-06-22T04:11:23.471195",
     "status": "completed"
    },
    "scrolled": true,
    "tags": []
   },
   "outputs": [
    {
     "data": {
      "text/html": [
       "<div>\n",
       "<style scoped>\n",
       "    .dataframe tbody tr th:only-of-type {\n",
       "        vertical-align: middle;\n",
       "    }\n",
       "\n",
       "    .dataframe tbody tr th {\n",
       "        vertical-align: top;\n",
       "    }\n",
       "\n",
       "    .dataframe thead th {\n",
       "        text-align: right;\n",
       "    }\n",
       "</style>\n",
       "<table border=\"1\" class=\"dataframe\">\n",
       "  <thead>\n",
       "    <tr style=\"text-align: right;\">\n",
       "      <th></th>\n",
       "      <th>Age</th>\n",
       "      <th>Sex</th>\n",
       "      <th>Chest pain type</th>\n",
       "      <th>BP</th>\n",
       "      <th>Cholesterol</th>\n",
       "      <th>FBS over 120</th>\n",
       "      <th>EKG results</th>\n",
       "      <th>Max HR</th>\n",
       "      <th>Exercise angina</th>\n",
       "      <th>ST depression</th>\n",
       "      <th>Slope of ST</th>\n",
       "      <th>Number of vessels fluro</th>\n",
       "      <th>Thallium</th>\n",
       "      <th>Heart Disease</th>\n",
       "    </tr>\n",
       "  </thead>\n",
       "  <tbody>\n",
       "    <tr>\n",
       "      <th>265</th>\n",
       "      <td>52</td>\n",
       "      <td>1</td>\n",
       "      <td>3</td>\n",
       "      <td>172</td>\n",
       "      <td>199</td>\n",
       "      <td>1</td>\n",
       "      <td>0</td>\n",
       "      <td>162</td>\n",
       "      <td>0</td>\n",
       "      <td>0.5</td>\n",
       "      <td>1</td>\n",
       "      <td>0</td>\n",
       "      <td>7</td>\n",
       "      <td>Absence</td>\n",
       "    </tr>\n",
       "    <tr>\n",
       "      <th>266</th>\n",
       "      <td>44</td>\n",
       "      <td>1</td>\n",
       "      <td>2</td>\n",
       "      <td>120</td>\n",
       "      <td>263</td>\n",
       "      <td>0</td>\n",
       "      <td>0</td>\n",
       "      <td>173</td>\n",
       "      <td>0</td>\n",
       "      <td>0.0</td>\n",
       "      <td>1</td>\n",
       "      <td>0</td>\n",
       "      <td>7</td>\n",
       "      <td>Absence</td>\n",
       "    </tr>\n",
       "    <tr>\n",
       "      <th>267</th>\n",
       "      <td>56</td>\n",
       "      <td>0</td>\n",
       "      <td>2</td>\n",
       "      <td>140</td>\n",
       "      <td>294</td>\n",
       "      <td>0</td>\n",
       "      <td>2</td>\n",
       "      <td>153</td>\n",
       "      <td>0</td>\n",
       "      <td>1.3</td>\n",
       "      <td>2</td>\n",
       "      <td>0</td>\n",
       "      <td>3</td>\n",
       "      <td>Absence</td>\n",
       "    </tr>\n",
       "    <tr>\n",
       "      <th>268</th>\n",
       "      <td>57</td>\n",
       "      <td>1</td>\n",
       "      <td>4</td>\n",
       "      <td>140</td>\n",
       "      <td>192</td>\n",
       "      <td>0</td>\n",
       "      <td>0</td>\n",
       "      <td>148</td>\n",
       "      <td>0</td>\n",
       "      <td>0.4</td>\n",
       "      <td>2</td>\n",
       "      <td>0</td>\n",
       "      <td>6</td>\n",
       "      <td>Absence</td>\n",
       "    </tr>\n",
       "    <tr>\n",
       "      <th>269</th>\n",
       "      <td>67</td>\n",
       "      <td>1</td>\n",
       "      <td>4</td>\n",
       "      <td>160</td>\n",
       "      <td>286</td>\n",
       "      <td>0</td>\n",
       "      <td>2</td>\n",
       "      <td>108</td>\n",
       "      <td>1</td>\n",
       "      <td>1.5</td>\n",
       "      <td>2</td>\n",
       "      <td>3</td>\n",
       "      <td>3</td>\n",
       "      <td>Presence</td>\n",
       "    </tr>\n",
       "  </tbody>\n",
       "</table>\n",
       "</div>"
      ],
      "text/plain": [
       "     Age  Sex  Chest pain type   BP  Cholesterol  FBS over 120  EKG results  \\\n",
       "265   52    1                3  172          199             1            0   \n",
       "266   44    1                2  120          263             0            0   \n",
       "267   56    0                2  140          294             0            2   \n",
       "268   57    1                4  140          192             0            0   \n",
       "269   67    1                4  160          286             0            2   \n",
       "\n",
       "     Max HR  Exercise angina  ST depression  Slope of ST  \\\n",
       "265     162                0            0.5            1   \n",
       "266     173                0            0.0            1   \n",
       "267     153                0            1.3            2   \n",
       "268     148                0            0.4            2   \n",
       "269     108                1            1.5            2   \n",
       "\n",
       "     Number of vessels fluro  Thallium Heart Disease  \n",
       "265                        0         7       Absence  \n",
       "266                        0         7       Absence  \n",
       "267                        0         3       Absence  \n",
       "268                        0         6       Absence  \n",
       "269                        3         3      Presence  "
      ]
     },
     "execution_count": 41,
     "metadata": {},
     "output_type": "execute_result"
    }
   ],
   "source": [
    "# Print last 5 rows of the datset.\n",
    "heart_df.tail() "
   ]
  },
  {
   "cell_type": "code",
   "execution_count": 42,
   "id": "5ca250b9",
   "metadata": {
    "execution": {
     "iopub.execute_input": "2023-06-22T04:11:23.527239Z",
     "iopub.status.busy": "2023-06-22T04:11:23.526836Z",
     "iopub.status.idle": "2023-06-22T04:11:23.534208Z",
     "shell.execute_reply": "2023-06-22T04:11:23.532957Z"
    },
    "papermill": {
     "duration": 0.0233,
     "end_time": "2023-06-22T04:11:23.536947",
     "exception": false,
     "start_time": "2023-06-22T04:11:23.513647",
     "status": "completed"
    },
    "tags": []
   },
   "outputs": [
    {
     "data": {
      "text/plain": [
       "(270, 14)"
      ]
     },
     "execution_count": 42,
     "metadata": {},
     "output_type": "execute_result"
    }
   ],
   "source": [
    "# Number of rows and columns in the datset\n",
    "heart_df.shape"
   ]
  },
  {
   "cell_type": "code",
   "execution_count": 43,
   "id": "ff0f5d01",
   "metadata": {
    "execution": {
     "iopub.execute_input": "2023-06-22T04:11:23.562383Z",
     "iopub.status.busy": "2023-06-22T04:11:23.561982Z",
     "iopub.status.idle": "2023-06-22T04:11:23.589513Z",
     "shell.execute_reply": "2023-06-22T04:11:23.588559Z"
    },
    "papermill": {
     "duration": 0.044203,
     "end_time": "2023-06-22T04:11:23.592614",
     "exception": false,
     "start_time": "2023-06-22T04:11:23.548411",
     "status": "completed"
    },
    "tags": []
   },
   "outputs": [
    {
     "name": "stdout",
     "output_type": "stream",
     "text": [
      "<class 'pandas.core.frame.DataFrame'>\n",
      "RangeIndex: 270 entries, 0 to 269\n",
      "Data columns (total 14 columns):\n",
      " #   Column                   Non-Null Count  Dtype  \n",
      "---  ------                   --------------  -----  \n",
      " 0   Age                      270 non-null    int64  \n",
      " 1   Sex                      270 non-null    int64  \n",
      " 2   Chest pain type          270 non-null    int64  \n",
      " 3   BP                       270 non-null    int64  \n",
      " 4   Cholesterol              270 non-null    int64  \n",
      " 5   FBS over 120             270 non-null    int64  \n",
      " 6   EKG results              270 non-null    int64  \n",
      " 7   Max HR                   270 non-null    int64  \n",
      " 8   Exercise angina          270 non-null    int64  \n",
      " 9   ST depression            270 non-null    float64\n",
      " 10  Slope of ST              270 non-null    int64  \n",
      " 11  Number of vessels fluro  270 non-null    int64  \n",
      " 12  Thallium                 270 non-null    int64  \n",
      " 13  Heart Disease            270 non-null    object \n",
      "dtypes: float64(1), int64(12), object(1)\n",
      "memory usage: 29.7+ KB\n"
     ]
    }
   ],
   "source": [
    "# Getiing details about the data\n",
    "heart_df.info()"
   ]
  },
  {
   "cell_type": "code",
   "execution_count": 44,
   "id": "e187b1ca",
   "metadata": {
    "execution": {
     "iopub.execute_input": "2023-06-22T04:11:23.618126Z",
     "iopub.status.busy": "2023-06-22T04:11:23.617285Z",
     "iopub.status.idle": "2023-06-22T04:11:23.626848Z",
     "shell.execute_reply": "2023-06-22T04:11:23.625336Z"
    },
    "papermill": {
     "duration": 0.025125,
     "end_time": "2023-06-22T04:11:23.629705",
     "exception": false,
     "start_time": "2023-06-22T04:11:23.604580",
     "status": "completed"
    },
    "tags": []
   },
   "outputs": [
    {
     "data": {
      "text/plain": [
       "Age                        0\n",
       "Sex                        0\n",
       "Chest pain type            0\n",
       "BP                         0\n",
       "Cholesterol                0\n",
       "FBS over 120               0\n",
       "EKG results                0\n",
       "Max HR                     0\n",
       "Exercise angina            0\n",
       "ST depression              0\n",
       "Slope of ST                0\n",
       "Number of vessels fluro    0\n",
       "Thallium                   0\n",
       "Heart Disease              0\n",
       "dtype: int64"
      ]
     },
     "execution_count": 44,
     "metadata": {},
     "output_type": "execute_result"
    }
   ],
   "source": [
    "#checking for missing value\n",
    "heart_df.isnull().sum()"
   ]
  },
  {
   "cell_type": "code",
   "execution_count": 45,
   "id": "9a17805a",
   "metadata": {
    "execution": {
     "iopub.execute_input": "2023-06-22T04:11:23.653909Z",
     "iopub.status.busy": "2023-06-22T04:11:23.653440Z",
     "iopub.status.idle": "2023-06-22T04:11:23.708325Z",
     "shell.execute_reply": "2023-06-22T04:11:23.707129Z"
    },
    "papermill": {
     "duration": 0.070317,
     "end_time": "2023-06-22T04:11:23.711161",
     "exception": false,
     "start_time": "2023-06-22T04:11:23.640844",
     "status": "completed"
    },
    "tags": []
   },
   "outputs": [
    {
     "data": {
      "text/html": [
       "<div>\n",
       "<style scoped>\n",
       "    .dataframe tbody tr th:only-of-type {\n",
       "        vertical-align: middle;\n",
       "    }\n",
       "\n",
       "    .dataframe tbody tr th {\n",
       "        vertical-align: top;\n",
       "    }\n",
       "\n",
       "    .dataframe thead th {\n",
       "        text-align: right;\n",
       "    }\n",
       "</style>\n",
       "<table border=\"1\" class=\"dataframe\">\n",
       "  <thead>\n",
       "    <tr style=\"text-align: right;\">\n",
       "      <th></th>\n",
       "      <th>Age</th>\n",
       "      <th>Sex</th>\n",
       "      <th>Chest pain type</th>\n",
       "      <th>BP</th>\n",
       "      <th>Cholesterol</th>\n",
       "      <th>FBS over 120</th>\n",
       "      <th>EKG results</th>\n",
       "      <th>Max HR</th>\n",
       "      <th>Exercise angina</th>\n",
       "      <th>ST depression</th>\n",
       "      <th>Slope of ST</th>\n",
       "      <th>Number of vessels fluro</th>\n",
       "      <th>Thallium</th>\n",
       "    </tr>\n",
       "  </thead>\n",
       "  <tbody>\n",
       "    <tr>\n",
       "      <th>count</th>\n",
       "      <td>270.000000</td>\n",
       "      <td>270.000000</td>\n",
       "      <td>270.000000</td>\n",
       "      <td>270.000000</td>\n",
       "      <td>270.000000</td>\n",
       "      <td>270.000000</td>\n",
       "      <td>270.000000</td>\n",
       "      <td>270.000000</td>\n",
       "      <td>270.000000</td>\n",
       "      <td>270.00000</td>\n",
       "      <td>270.000000</td>\n",
       "      <td>270.000000</td>\n",
       "      <td>270.000000</td>\n",
       "    </tr>\n",
       "    <tr>\n",
       "      <th>mean</th>\n",
       "      <td>54.433333</td>\n",
       "      <td>0.677778</td>\n",
       "      <td>3.174074</td>\n",
       "      <td>131.344444</td>\n",
       "      <td>249.659259</td>\n",
       "      <td>0.148148</td>\n",
       "      <td>1.022222</td>\n",
       "      <td>149.677778</td>\n",
       "      <td>0.329630</td>\n",
       "      <td>1.05000</td>\n",
       "      <td>1.585185</td>\n",
       "      <td>0.670370</td>\n",
       "      <td>4.696296</td>\n",
       "    </tr>\n",
       "    <tr>\n",
       "      <th>std</th>\n",
       "      <td>9.109067</td>\n",
       "      <td>0.468195</td>\n",
       "      <td>0.950090</td>\n",
       "      <td>17.861608</td>\n",
       "      <td>51.686237</td>\n",
       "      <td>0.355906</td>\n",
       "      <td>0.997891</td>\n",
       "      <td>23.165717</td>\n",
       "      <td>0.470952</td>\n",
       "      <td>1.14521</td>\n",
       "      <td>0.614390</td>\n",
       "      <td>0.943896</td>\n",
       "      <td>1.940659</td>\n",
       "    </tr>\n",
       "    <tr>\n",
       "      <th>min</th>\n",
       "      <td>29.000000</td>\n",
       "      <td>0.000000</td>\n",
       "      <td>1.000000</td>\n",
       "      <td>94.000000</td>\n",
       "      <td>126.000000</td>\n",
       "      <td>0.000000</td>\n",
       "      <td>0.000000</td>\n",
       "      <td>71.000000</td>\n",
       "      <td>0.000000</td>\n",
       "      <td>0.00000</td>\n",
       "      <td>1.000000</td>\n",
       "      <td>0.000000</td>\n",
       "      <td>3.000000</td>\n",
       "    </tr>\n",
       "    <tr>\n",
       "      <th>25%</th>\n",
       "      <td>48.000000</td>\n",
       "      <td>0.000000</td>\n",
       "      <td>3.000000</td>\n",
       "      <td>120.000000</td>\n",
       "      <td>213.000000</td>\n",
       "      <td>0.000000</td>\n",
       "      <td>0.000000</td>\n",
       "      <td>133.000000</td>\n",
       "      <td>0.000000</td>\n",
       "      <td>0.00000</td>\n",
       "      <td>1.000000</td>\n",
       "      <td>0.000000</td>\n",
       "      <td>3.000000</td>\n",
       "    </tr>\n",
       "    <tr>\n",
       "      <th>50%</th>\n",
       "      <td>55.000000</td>\n",
       "      <td>1.000000</td>\n",
       "      <td>3.000000</td>\n",
       "      <td>130.000000</td>\n",
       "      <td>245.000000</td>\n",
       "      <td>0.000000</td>\n",
       "      <td>2.000000</td>\n",
       "      <td>153.500000</td>\n",
       "      <td>0.000000</td>\n",
       "      <td>0.80000</td>\n",
       "      <td>2.000000</td>\n",
       "      <td>0.000000</td>\n",
       "      <td>3.000000</td>\n",
       "    </tr>\n",
       "    <tr>\n",
       "      <th>75%</th>\n",
       "      <td>61.000000</td>\n",
       "      <td>1.000000</td>\n",
       "      <td>4.000000</td>\n",
       "      <td>140.000000</td>\n",
       "      <td>280.000000</td>\n",
       "      <td>0.000000</td>\n",
       "      <td>2.000000</td>\n",
       "      <td>166.000000</td>\n",
       "      <td>1.000000</td>\n",
       "      <td>1.60000</td>\n",
       "      <td>2.000000</td>\n",
       "      <td>1.000000</td>\n",
       "      <td>7.000000</td>\n",
       "    </tr>\n",
       "    <tr>\n",
       "      <th>max</th>\n",
       "      <td>77.000000</td>\n",
       "      <td>1.000000</td>\n",
       "      <td>4.000000</td>\n",
       "      <td>200.000000</td>\n",
       "      <td>564.000000</td>\n",
       "      <td>1.000000</td>\n",
       "      <td>2.000000</td>\n",
       "      <td>202.000000</td>\n",
       "      <td>1.000000</td>\n",
       "      <td>6.20000</td>\n",
       "      <td>3.000000</td>\n",
       "      <td>3.000000</td>\n",
       "      <td>7.000000</td>\n",
       "    </tr>\n",
       "  </tbody>\n",
       "</table>\n",
       "</div>"
      ],
      "text/plain": [
       "              Age         Sex  Chest pain type          BP  Cholesterol  \\\n",
       "count  270.000000  270.000000       270.000000  270.000000   270.000000   \n",
       "mean    54.433333    0.677778         3.174074  131.344444   249.659259   \n",
       "std      9.109067    0.468195         0.950090   17.861608    51.686237   \n",
       "min     29.000000    0.000000         1.000000   94.000000   126.000000   \n",
       "25%     48.000000    0.000000         3.000000  120.000000   213.000000   \n",
       "50%     55.000000    1.000000         3.000000  130.000000   245.000000   \n",
       "75%     61.000000    1.000000         4.000000  140.000000   280.000000   \n",
       "max     77.000000    1.000000         4.000000  200.000000   564.000000   \n",
       "\n",
       "       FBS over 120  EKG results      Max HR  Exercise angina  ST depression  \\\n",
       "count    270.000000   270.000000  270.000000       270.000000      270.00000   \n",
       "mean       0.148148     1.022222  149.677778         0.329630        1.05000   \n",
       "std        0.355906     0.997891   23.165717         0.470952        1.14521   \n",
       "min        0.000000     0.000000   71.000000         0.000000        0.00000   \n",
       "25%        0.000000     0.000000  133.000000         0.000000        0.00000   \n",
       "50%        0.000000     2.000000  153.500000         0.000000        0.80000   \n",
       "75%        0.000000     2.000000  166.000000         1.000000        1.60000   \n",
       "max        1.000000     2.000000  202.000000         1.000000        6.20000   \n",
       "\n",
       "       Slope of ST  Number of vessels fluro    Thallium  \n",
       "count   270.000000               270.000000  270.000000  \n",
       "mean      1.585185                 0.670370    4.696296  \n",
       "std       0.614390                 0.943896    1.940659  \n",
       "min       1.000000                 0.000000    3.000000  \n",
       "25%       1.000000                 0.000000    3.000000  \n",
       "50%       2.000000                 0.000000    3.000000  \n",
       "75%       2.000000                 1.000000    7.000000  \n",
       "max       3.000000                 3.000000    7.000000  "
      ]
     },
     "execution_count": 45,
     "metadata": {},
     "output_type": "execute_result"
    }
   ],
   "source": [
    "# statistical measures about the data\n",
    "heart_df.describe()"
   ]
  },
  {
   "cell_type": "markdown",
   "id": "20e16388",
   "metadata": {
    "papermill": {
     "duration": 0.010849,
     "end_time": "2023-06-22T04:11:23.733137",
     "exception": false,
     "start_time": "2023-06-22T04:11:23.722288",
     "status": "completed"
    },
    "tags": []
   },
   "source": [
    "# Data Visualization "
   ]
  },
  {
   "cell_type": "code",
   "execution_count": 46,
   "id": "d0932e42",
   "metadata": {
    "execution": {
     "iopub.execute_input": "2023-06-22T04:11:23.758652Z",
     "iopub.status.busy": "2023-06-22T04:11:23.757832Z",
     "iopub.status.idle": "2023-06-22T04:11:23.763208Z",
     "shell.execute_reply": "2023-06-22T04:11:23.762347Z"
    },
    "papermill": {
     "duration": 0.021373,
     "end_time": "2023-06-22T04:11:23.765732",
     "exception": false,
     "start_time": "2023-06-22T04:11:23.744359",
     "status": "completed"
    },
    "tags": []
   },
   "outputs": [],
   "source": [
    "from sklearn.preprocessing import LabelEncoder"
   ]
  },
  {
   "cell_type": "code",
   "execution_count": 47,
   "id": "53267daa",
   "metadata": {
    "execution": {
     "iopub.execute_input": "2023-06-22T04:11:23.792758Z",
     "iopub.status.busy": "2023-06-22T04:11:23.791962Z",
     "iopub.status.idle": "2023-06-22T04:11:23.797650Z",
     "shell.execute_reply": "2023-06-22T04:11:23.796748Z"
    },
    "papermill": {
     "duration": 0.021766,
     "end_time": "2023-06-22T04:11:23.800189",
     "exception": false,
     "start_time": "2023-06-22T04:11:23.778423",
     "status": "completed"
    },
    "tags": []
   },
   "outputs": [],
   "source": [
    "encoder = LabelEncoder()\n",
    "encoder.fit(heart_df['Heart Disease'])\n",
    "heart_df['Heart Disease'] = encoder.transform(heart_df['Heart Disease'])"
   ]
  },
  {
   "cell_type": "code",
   "execution_count": 48,
   "id": "7dce7d54",
   "metadata": {
    "execution": {
     "iopub.execute_input": "2023-06-22T04:11:23.825658Z",
     "iopub.status.busy": "2023-06-22T04:11:23.824928Z",
     "iopub.status.idle": "2023-06-22T04:11:23.845356Z",
     "shell.execute_reply": "2023-06-22T04:11:23.843965Z"
    },
    "papermill": {
     "duration": 0.036677,
     "end_time": "2023-06-22T04:11:23.848236",
     "exception": false,
     "start_time": "2023-06-22T04:11:23.811559",
     "status": "completed"
    },
    "tags": []
   },
   "outputs": [
    {
     "data": {
      "text/html": [
       "<div>\n",
       "<style scoped>\n",
       "    .dataframe tbody tr th:only-of-type {\n",
       "        vertical-align: middle;\n",
       "    }\n",
       "\n",
       "    .dataframe tbody tr th {\n",
       "        vertical-align: top;\n",
       "    }\n",
       "\n",
       "    .dataframe thead th {\n",
       "        text-align: right;\n",
       "    }\n",
       "</style>\n",
       "<table border=\"1\" class=\"dataframe\">\n",
       "  <thead>\n",
       "    <tr style=\"text-align: right;\">\n",
       "      <th></th>\n",
       "      <th>Age</th>\n",
       "      <th>Sex</th>\n",
       "      <th>Chest pain type</th>\n",
       "      <th>BP</th>\n",
       "      <th>Cholesterol</th>\n",
       "      <th>FBS over 120</th>\n",
       "      <th>EKG results</th>\n",
       "      <th>Max HR</th>\n",
       "      <th>Exercise angina</th>\n",
       "      <th>ST depression</th>\n",
       "      <th>Slope of ST</th>\n",
       "      <th>Number of vessels fluro</th>\n",
       "      <th>Thallium</th>\n",
       "      <th>Heart Disease</th>\n",
       "    </tr>\n",
       "  </thead>\n",
       "  <tbody>\n",
       "    <tr>\n",
       "      <th>0</th>\n",
       "      <td>70</td>\n",
       "      <td>1</td>\n",
       "      <td>4</td>\n",
       "      <td>130</td>\n",
       "      <td>322</td>\n",
       "      <td>0</td>\n",
       "      <td>2</td>\n",
       "      <td>109</td>\n",
       "      <td>0</td>\n",
       "      <td>2.4</td>\n",
       "      <td>2</td>\n",
       "      <td>3</td>\n",
       "      <td>3</td>\n",
       "      <td>1</td>\n",
       "    </tr>\n",
       "    <tr>\n",
       "      <th>1</th>\n",
       "      <td>67</td>\n",
       "      <td>0</td>\n",
       "      <td>3</td>\n",
       "      <td>115</td>\n",
       "      <td>564</td>\n",
       "      <td>0</td>\n",
       "      <td>2</td>\n",
       "      <td>160</td>\n",
       "      <td>0</td>\n",
       "      <td>1.6</td>\n",
       "      <td>2</td>\n",
       "      <td>0</td>\n",
       "      <td>7</td>\n",
       "      <td>0</td>\n",
       "    </tr>\n",
       "    <tr>\n",
       "      <th>2</th>\n",
       "      <td>57</td>\n",
       "      <td>1</td>\n",
       "      <td>2</td>\n",
       "      <td>124</td>\n",
       "      <td>261</td>\n",
       "      <td>0</td>\n",
       "      <td>0</td>\n",
       "      <td>141</td>\n",
       "      <td>0</td>\n",
       "      <td>0.3</td>\n",
       "      <td>1</td>\n",
       "      <td>0</td>\n",
       "      <td>7</td>\n",
       "      <td>1</td>\n",
       "    </tr>\n",
       "    <tr>\n",
       "      <th>3</th>\n",
       "      <td>64</td>\n",
       "      <td>1</td>\n",
       "      <td>4</td>\n",
       "      <td>128</td>\n",
       "      <td>263</td>\n",
       "      <td>0</td>\n",
       "      <td>0</td>\n",
       "      <td>105</td>\n",
       "      <td>1</td>\n",
       "      <td>0.2</td>\n",
       "      <td>2</td>\n",
       "      <td>1</td>\n",
       "      <td>7</td>\n",
       "      <td>0</td>\n",
       "    </tr>\n",
       "    <tr>\n",
       "      <th>4</th>\n",
       "      <td>74</td>\n",
       "      <td>0</td>\n",
       "      <td>2</td>\n",
       "      <td>120</td>\n",
       "      <td>269</td>\n",
       "      <td>0</td>\n",
       "      <td>2</td>\n",
       "      <td>121</td>\n",
       "      <td>1</td>\n",
       "      <td>0.2</td>\n",
       "      <td>1</td>\n",
       "      <td>1</td>\n",
       "      <td>3</td>\n",
       "      <td>0</td>\n",
       "    </tr>\n",
       "    <tr>\n",
       "      <th>...</th>\n",
       "      <td>...</td>\n",
       "      <td>...</td>\n",
       "      <td>...</td>\n",
       "      <td>...</td>\n",
       "      <td>...</td>\n",
       "      <td>...</td>\n",
       "      <td>...</td>\n",
       "      <td>...</td>\n",
       "      <td>...</td>\n",
       "      <td>...</td>\n",
       "      <td>...</td>\n",
       "      <td>...</td>\n",
       "      <td>...</td>\n",
       "      <td>...</td>\n",
       "    </tr>\n",
       "    <tr>\n",
       "      <th>265</th>\n",
       "      <td>52</td>\n",
       "      <td>1</td>\n",
       "      <td>3</td>\n",
       "      <td>172</td>\n",
       "      <td>199</td>\n",
       "      <td>1</td>\n",
       "      <td>0</td>\n",
       "      <td>162</td>\n",
       "      <td>0</td>\n",
       "      <td>0.5</td>\n",
       "      <td>1</td>\n",
       "      <td>0</td>\n",
       "      <td>7</td>\n",
       "      <td>0</td>\n",
       "    </tr>\n",
       "    <tr>\n",
       "      <th>266</th>\n",
       "      <td>44</td>\n",
       "      <td>1</td>\n",
       "      <td>2</td>\n",
       "      <td>120</td>\n",
       "      <td>263</td>\n",
       "      <td>0</td>\n",
       "      <td>0</td>\n",
       "      <td>173</td>\n",
       "      <td>0</td>\n",
       "      <td>0.0</td>\n",
       "      <td>1</td>\n",
       "      <td>0</td>\n",
       "      <td>7</td>\n",
       "      <td>0</td>\n",
       "    </tr>\n",
       "    <tr>\n",
       "      <th>267</th>\n",
       "      <td>56</td>\n",
       "      <td>0</td>\n",
       "      <td>2</td>\n",
       "      <td>140</td>\n",
       "      <td>294</td>\n",
       "      <td>0</td>\n",
       "      <td>2</td>\n",
       "      <td>153</td>\n",
       "      <td>0</td>\n",
       "      <td>1.3</td>\n",
       "      <td>2</td>\n",
       "      <td>0</td>\n",
       "      <td>3</td>\n",
       "      <td>0</td>\n",
       "    </tr>\n",
       "    <tr>\n",
       "      <th>268</th>\n",
       "      <td>57</td>\n",
       "      <td>1</td>\n",
       "      <td>4</td>\n",
       "      <td>140</td>\n",
       "      <td>192</td>\n",
       "      <td>0</td>\n",
       "      <td>0</td>\n",
       "      <td>148</td>\n",
       "      <td>0</td>\n",
       "      <td>0.4</td>\n",
       "      <td>2</td>\n",
       "      <td>0</td>\n",
       "      <td>6</td>\n",
       "      <td>0</td>\n",
       "    </tr>\n",
       "    <tr>\n",
       "      <th>269</th>\n",
       "      <td>67</td>\n",
       "      <td>1</td>\n",
       "      <td>4</td>\n",
       "      <td>160</td>\n",
       "      <td>286</td>\n",
       "      <td>0</td>\n",
       "      <td>2</td>\n",
       "      <td>108</td>\n",
       "      <td>1</td>\n",
       "      <td>1.5</td>\n",
       "      <td>2</td>\n",
       "      <td>3</td>\n",
       "      <td>3</td>\n",
       "      <td>1</td>\n",
       "    </tr>\n",
       "  </tbody>\n",
       "</table>\n",
       "<p>270 rows × 14 columns</p>\n",
       "</div>"
      ],
      "text/plain": [
       "     Age  Sex  Chest pain type   BP  Cholesterol  FBS over 120  EKG results  \\\n",
       "0     70    1                4  130          322             0            2   \n",
       "1     67    0                3  115          564             0            2   \n",
       "2     57    1                2  124          261             0            0   \n",
       "3     64    1                4  128          263             0            0   \n",
       "4     74    0                2  120          269             0            2   \n",
       "..   ...  ...              ...  ...          ...           ...          ...   \n",
       "265   52    1                3  172          199             1            0   \n",
       "266   44    1                2  120          263             0            0   \n",
       "267   56    0                2  140          294             0            2   \n",
       "268   57    1                4  140          192             0            0   \n",
       "269   67    1                4  160          286             0            2   \n",
       "\n",
       "     Max HR  Exercise angina  ST depression  Slope of ST  \\\n",
       "0       109                0            2.4            2   \n",
       "1       160                0            1.6            2   \n",
       "2       141                0            0.3            1   \n",
       "3       105                1            0.2            2   \n",
       "4       121                1            0.2            1   \n",
       "..      ...              ...            ...          ...   \n",
       "265     162                0            0.5            1   \n",
       "266     173                0            0.0            1   \n",
       "267     153                0            1.3            2   \n",
       "268     148                0            0.4            2   \n",
       "269     108                1            1.5            2   \n",
       "\n",
       "     Number of vessels fluro  Thallium  Heart Disease  \n",
       "0                          3         3              1  \n",
       "1                          0         7              0  \n",
       "2                          0         7              1  \n",
       "3                          1         7              0  \n",
       "4                          1         3              0  \n",
       "..                       ...       ...            ...  \n",
       "265                        0         7              0  \n",
       "266                        0         7              0  \n",
       "267                        0         3              0  \n",
       "268                        0         6              0  \n",
       "269                        3         3              1  \n",
       "\n",
       "[270 rows x 14 columns]"
      ]
     },
     "execution_count": 48,
     "metadata": {},
     "output_type": "execute_result"
    }
   ],
   "source": [
    "heart_df"
   ]
  },
  {
   "cell_type": "code",
   "execution_count": 49,
   "id": "12232d8a",
   "metadata": {
    "execution": {
     "iopub.execute_input": "2023-06-22T04:13:14.674316Z",
     "iopub.status.busy": "2023-06-22T04:13:14.673816Z",
     "iopub.status.idle": "2023-06-22T04:13:14.680985Z",
     "shell.execute_reply": "2023-06-22T04:13:14.679818Z"
    },
    "papermill": {
     "duration": 0.129351,
     "end_time": "2023-06-22T04:13:14.683292",
     "exception": false,
     "start_time": "2023-06-22T04:13:14.553941",
     "status": "completed"
    },
    "tags": []
   },
   "outputs": [
    {
     "data": {
      "text/plain": [
       "Index(['Age', 'Sex', 'Chest pain type', 'BP', 'Cholesterol', 'FBS over 120',\n",
       "       'EKG results', 'Max HR', 'Exercise angina', 'ST depression',\n",
       "       'Slope of ST', 'Number of vessels fluro', 'Thallium', 'Heart Disease'],\n",
       "      dtype='object')"
      ]
     },
     "execution_count": 49,
     "metadata": {},
     "output_type": "execute_result"
    }
   ],
   "source": [
    "heart_df.columns"
   ]
  },
  {
   "cell_type": "code",
   "execution_count": 50,
   "id": "cf3799eb",
   "metadata": {
    "execution": {
     "iopub.execute_input": "2023-06-22T04:13:14.896894Z",
     "iopub.status.busy": "2023-06-22T04:13:14.895752Z",
     "iopub.status.idle": "2023-06-22T04:13:14.905172Z",
     "shell.execute_reply": "2023-06-22T04:13:14.903994Z"
    },
    "papermill": {
     "duration": 0.119269,
     "end_time": "2023-06-22T04:13:14.907653",
     "exception": false,
     "start_time": "2023-06-22T04:13:14.788384",
     "status": "completed"
    },
    "tags": []
   },
   "outputs": [
    {
     "data": {
      "text/plain": [
       "0    150\n",
       "1    120\n",
       "Name: Heart Disease, dtype: int64"
      ]
     },
     "execution_count": 50,
     "metadata": {},
     "output_type": "execute_result"
    }
   ],
   "source": [
    "heart_df['Heart Disease'].value_counts()"
   ]
  },
  {
   "cell_type": "markdown",
   "id": "ab9d023f",
   "metadata": {
    "papermill": {
     "duration": 0.108361,
     "end_time": "2023-06-22T04:13:15.123257",
     "exception": false,
     "start_time": "2023-06-22T04:13:15.014896",
     "status": "completed"
    },
    "tags": []
   },
   "source": [
    "##### 1 -->Defective Heart                  \n",
    "##### 0 -->Healthy Heart"
   ]
  },
  {
   "cell_type": "markdown",
   "id": "01431de0",
   "metadata": {
    "papermill": {
     "duration": 0.105331,
     "end_time": "2023-06-22T04:13:15.333964",
     "exception": false,
     "start_time": "2023-06-22T04:13:15.228633",
     "status": "completed"
    },
    "tags": []
   },
   "source": [
    "## Splitting the Feauture and Target"
   ]
  },
  {
   "cell_type": "code",
   "execution_count": 51,
   "id": "046a700f",
   "metadata": {
    "execution": {
     "iopub.execute_input": "2023-06-22T04:13:15.547030Z",
     "iopub.status.busy": "2023-06-22T04:13:15.546659Z",
     "iopub.status.idle": "2023-06-22T04:13:15.553182Z",
     "shell.execute_reply": "2023-06-22T04:13:15.552177Z"
    },
    "papermill": {
     "duration": 0.115547,
     "end_time": "2023-06-22T04:13:15.555613",
     "exception": false,
     "start_time": "2023-06-22T04:13:15.440066",
     "status": "completed"
    },
    "tags": []
   },
   "outputs": [],
   "source": [
    "X = heart_df.drop(columns ='Heart Disease', axis =1)\n",
    "Y = heart_df['Heart Disease']"
   ]
  },
  {
   "cell_type": "code",
   "execution_count": 52,
   "id": "f7f169e7",
   "metadata": {
    "execution": {
     "iopub.execute_input": "2023-06-22T04:13:15.779493Z",
     "iopub.status.busy": "2023-06-22T04:13:15.778338Z",
     "iopub.status.idle": "2023-06-22T04:13:15.797933Z",
     "shell.execute_reply": "2023-06-22T04:13:15.796703Z"
    },
    "papermill": {
     "duration": 0.136579,
     "end_time": "2023-06-22T04:13:15.800668",
     "exception": false,
     "start_time": "2023-06-22T04:13:15.664089",
     "status": "completed"
    },
    "tags": []
   },
   "outputs": [
    {
     "data": {
      "text/html": [
       "<div>\n",
       "<style scoped>\n",
       "    .dataframe tbody tr th:only-of-type {\n",
       "        vertical-align: middle;\n",
       "    }\n",
       "\n",
       "    .dataframe tbody tr th {\n",
       "        vertical-align: top;\n",
       "    }\n",
       "\n",
       "    .dataframe thead th {\n",
       "        text-align: right;\n",
       "    }\n",
       "</style>\n",
       "<table border=\"1\" class=\"dataframe\">\n",
       "  <thead>\n",
       "    <tr style=\"text-align: right;\">\n",
       "      <th></th>\n",
       "      <th>Age</th>\n",
       "      <th>Sex</th>\n",
       "      <th>Chest pain type</th>\n",
       "      <th>BP</th>\n",
       "      <th>Cholesterol</th>\n",
       "      <th>FBS over 120</th>\n",
       "      <th>EKG results</th>\n",
       "      <th>Max HR</th>\n",
       "      <th>Exercise angina</th>\n",
       "      <th>ST depression</th>\n",
       "      <th>Slope of ST</th>\n",
       "      <th>Number of vessels fluro</th>\n",
       "      <th>Thallium</th>\n",
       "    </tr>\n",
       "  </thead>\n",
       "  <tbody>\n",
       "    <tr>\n",
       "      <th>0</th>\n",
       "      <td>70</td>\n",
       "      <td>1</td>\n",
       "      <td>4</td>\n",
       "      <td>130</td>\n",
       "      <td>322</td>\n",
       "      <td>0</td>\n",
       "      <td>2</td>\n",
       "      <td>109</td>\n",
       "      <td>0</td>\n",
       "      <td>2.4</td>\n",
       "      <td>2</td>\n",
       "      <td>3</td>\n",
       "      <td>3</td>\n",
       "    </tr>\n",
       "    <tr>\n",
       "      <th>1</th>\n",
       "      <td>67</td>\n",
       "      <td>0</td>\n",
       "      <td>3</td>\n",
       "      <td>115</td>\n",
       "      <td>564</td>\n",
       "      <td>0</td>\n",
       "      <td>2</td>\n",
       "      <td>160</td>\n",
       "      <td>0</td>\n",
       "      <td>1.6</td>\n",
       "      <td>2</td>\n",
       "      <td>0</td>\n",
       "      <td>7</td>\n",
       "    </tr>\n",
       "    <tr>\n",
       "      <th>2</th>\n",
       "      <td>57</td>\n",
       "      <td>1</td>\n",
       "      <td>2</td>\n",
       "      <td>124</td>\n",
       "      <td>261</td>\n",
       "      <td>0</td>\n",
       "      <td>0</td>\n",
       "      <td>141</td>\n",
       "      <td>0</td>\n",
       "      <td>0.3</td>\n",
       "      <td>1</td>\n",
       "      <td>0</td>\n",
       "      <td>7</td>\n",
       "    </tr>\n",
       "    <tr>\n",
       "      <th>3</th>\n",
       "      <td>64</td>\n",
       "      <td>1</td>\n",
       "      <td>4</td>\n",
       "      <td>128</td>\n",
       "      <td>263</td>\n",
       "      <td>0</td>\n",
       "      <td>0</td>\n",
       "      <td>105</td>\n",
       "      <td>1</td>\n",
       "      <td>0.2</td>\n",
       "      <td>2</td>\n",
       "      <td>1</td>\n",
       "      <td>7</td>\n",
       "    </tr>\n",
       "    <tr>\n",
       "      <th>4</th>\n",
       "      <td>74</td>\n",
       "      <td>0</td>\n",
       "      <td>2</td>\n",
       "      <td>120</td>\n",
       "      <td>269</td>\n",
       "      <td>0</td>\n",
       "      <td>2</td>\n",
       "      <td>121</td>\n",
       "      <td>1</td>\n",
       "      <td>0.2</td>\n",
       "      <td>1</td>\n",
       "      <td>1</td>\n",
       "      <td>3</td>\n",
       "    </tr>\n",
       "    <tr>\n",
       "      <th>...</th>\n",
       "      <td>...</td>\n",
       "      <td>...</td>\n",
       "      <td>...</td>\n",
       "      <td>...</td>\n",
       "      <td>...</td>\n",
       "      <td>...</td>\n",
       "      <td>...</td>\n",
       "      <td>...</td>\n",
       "      <td>...</td>\n",
       "      <td>...</td>\n",
       "      <td>...</td>\n",
       "      <td>...</td>\n",
       "      <td>...</td>\n",
       "    </tr>\n",
       "    <tr>\n",
       "      <th>265</th>\n",
       "      <td>52</td>\n",
       "      <td>1</td>\n",
       "      <td>3</td>\n",
       "      <td>172</td>\n",
       "      <td>199</td>\n",
       "      <td>1</td>\n",
       "      <td>0</td>\n",
       "      <td>162</td>\n",
       "      <td>0</td>\n",
       "      <td>0.5</td>\n",
       "      <td>1</td>\n",
       "      <td>0</td>\n",
       "      <td>7</td>\n",
       "    </tr>\n",
       "    <tr>\n",
       "      <th>266</th>\n",
       "      <td>44</td>\n",
       "      <td>1</td>\n",
       "      <td>2</td>\n",
       "      <td>120</td>\n",
       "      <td>263</td>\n",
       "      <td>0</td>\n",
       "      <td>0</td>\n",
       "      <td>173</td>\n",
       "      <td>0</td>\n",
       "      <td>0.0</td>\n",
       "      <td>1</td>\n",
       "      <td>0</td>\n",
       "      <td>7</td>\n",
       "    </tr>\n",
       "    <tr>\n",
       "      <th>267</th>\n",
       "      <td>56</td>\n",
       "      <td>0</td>\n",
       "      <td>2</td>\n",
       "      <td>140</td>\n",
       "      <td>294</td>\n",
       "      <td>0</td>\n",
       "      <td>2</td>\n",
       "      <td>153</td>\n",
       "      <td>0</td>\n",
       "      <td>1.3</td>\n",
       "      <td>2</td>\n",
       "      <td>0</td>\n",
       "      <td>3</td>\n",
       "    </tr>\n",
       "    <tr>\n",
       "      <th>268</th>\n",
       "      <td>57</td>\n",
       "      <td>1</td>\n",
       "      <td>4</td>\n",
       "      <td>140</td>\n",
       "      <td>192</td>\n",
       "      <td>0</td>\n",
       "      <td>0</td>\n",
       "      <td>148</td>\n",
       "      <td>0</td>\n",
       "      <td>0.4</td>\n",
       "      <td>2</td>\n",
       "      <td>0</td>\n",
       "      <td>6</td>\n",
       "    </tr>\n",
       "    <tr>\n",
       "      <th>269</th>\n",
       "      <td>67</td>\n",
       "      <td>1</td>\n",
       "      <td>4</td>\n",
       "      <td>160</td>\n",
       "      <td>286</td>\n",
       "      <td>0</td>\n",
       "      <td>2</td>\n",
       "      <td>108</td>\n",
       "      <td>1</td>\n",
       "      <td>1.5</td>\n",
       "      <td>2</td>\n",
       "      <td>3</td>\n",
       "      <td>3</td>\n",
       "    </tr>\n",
       "  </tbody>\n",
       "</table>\n",
       "<p>270 rows × 13 columns</p>\n",
       "</div>"
      ],
      "text/plain": [
       "     Age  Sex  Chest pain type   BP  Cholesterol  FBS over 120  EKG results  \\\n",
       "0     70    1                4  130          322             0            2   \n",
       "1     67    0                3  115          564             0            2   \n",
       "2     57    1                2  124          261             0            0   \n",
       "3     64    1                4  128          263             0            0   \n",
       "4     74    0                2  120          269             0            2   \n",
       "..   ...  ...              ...  ...          ...           ...          ...   \n",
       "265   52    1                3  172          199             1            0   \n",
       "266   44    1                2  120          263             0            0   \n",
       "267   56    0                2  140          294             0            2   \n",
       "268   57    1                4  140          192             0            0   \n",
       "269   67    1                4  160          286             0            2   \n",
       "\n",
       "     Max HR  Exercise angina  ST depression  Slope of ST  \\\n",
       "0       109                0            2.4            2   \n",
       "1       160                0            1.6            2   \n",
       "2       141                0            0.3            1   \n",
       "3       105                1            0.2            2   \n",
       "4       121                1            0.2            1   \n",
       "..      ...              ...            ...          ...   \n",
       "265     162                0            0.5            1   \n",
       "266     173                0            0.0            1   \n",
       "267     153                0            1.3            2   \n",
       "268     148                0            0.4            2   \n",
       "269     108                1            1.5            2   \n",
       "\n",
       "     Number of vessels fluro  Thallium  \n",
       "0                          3         3  \n",
       "1                          0         7  \n",
       "2                          0         7  \n",
       "3                          1         7  \n",
       "4                          1         3  \n",
       "..                       ...       ...  \n",
       "265                        0         7  \n",
       "266                        0         7  \n",
       "267                        0         3  \n",
       "268                        0         6  \n",
       "269                        3         3  \n",
       "\n",
       "[270 rows x 13 columns]"
      ]
     },
     "execution_count": 52,
     "metadata": {},
     "output_type": "execute_result"
    }
   ],
   "source": [
    "X"
   ]
  },
  {
   "cell_type": "code",
   "execution_count": 53,
   "id": "77d12fae",
   "metadata": {
    "execution": {
     "iopub.execute_input": "2023-06-22T04:13:16.020578Z",
     "iopub.status.busy": "2023-06-22T04:13:16.019841Z",
     "iopub.status.idle": "2023-06-22T04:13:16.032210Z",
     "shell.execute_reply": "2023-06-22T04:13:16.031260Z"
    },
    "papermill": {
     "duration": 0.126619,
     "end_time": "2023-06-22T04:13:16.034490",
     "exception": false,
     "start_time": "2023-06-22T04:13:15.907871",
     "status": "completed"
    },
    "tags": []
   },
   "outputs": [
    {
     "data": {
      "text/plain": [
       "0      1\n",
       "1      0\n",
       "2      1\n",
       "3      0\n",
       "4      0\n",
       "      ..\n",
       "265    0\n",
       "266    0\n",
       "267    0\n",
       "268    0\n",
       "269    1\n",
       "Name: Heart Disease, Length: 270, dtype: int32"
      ]
     },
     "execution_count": 53,
     "metadata": {},
     "output_type": "execute_result"
    }
   ],
   "source": [
    "Y"
   ]
  },
  {
   "cell_type": "markdown",
   "id": "c2c8c284",
   "metadata": {
    "papermill": {
     "duration": 0.105898,
     "end_time": "2023-06-22T04:13:16.248480",
     "exception": false,
     "start_time": "2023-06-22T04:13:16.142582",
     "status": "completed"
    },
    "tags": []
   },
   "source": [
    "# Splitting the Data into Training Data and Test Data"
   ]
  },
  {
   "cell_type": "code",
   "execution_count": 54,
   "id": "6429e145",
   "metadata": {
    "execution": {
     "iopub.execute_input": "2023-06-22T04:13:16.469846Z",
     "iopub.status.busy": "2023-06-22T04:13:16.468553Z",
     "iopub.status.idle": "2023-06-22T04:13:16.481045Z",
     "shell.execute_reply": "2023-06-22T04:13:16.479770Z"
    },
    "papermill": {
     "duration": 0.125319,
     "end_time": "2023-06-22T04:13:16.484893",
     "exception": false,
     "start_time": "2023-06-22T04:13:16.359574",
     "status": "completed"
    },
    "tags": []
   },
   "outputs": [],
   "source": [
    "X_train, X_test, Y_train, Y_test = train_test_split(X, Y, test_size=0.2, stratify = Y, random_state=2)"
   ]
  },
  {
   "cell_type": "markdown",
   "id": "219c8e57",
   "metadata": {
    "papermill": {
     "duration": 0.104608,
     "end_time": "2023-06-22T04:13:16.695914",
     "exception": false,
     "start_time": "2023-06-22T04:13:16.591306",
     "status": "completed"
    },
    "tags": []
   },
   "source": [
    "## Data Information\n",
    "This step displays the shape and information of the training and testing sets."
   ]
  },
  {
   "cell_type": "code",
   "execution_count": 55,
   "id": "a5d783f6",
   "metadata": {
    "execution": {
     "iopub.execute_input": "2023-06-22T04:13:16.910797Z",
     "iopub.status.busy": "2023-06-22T04:13:16.909622Z",
     "iopub.status.idle": "2023-06-22T04:13:16.918769Z",
     "shell.execute_reply": "2023-06-22T04:13:16.917654Z"
    },
    "papermill": {
     "duration": 0.119899,
     "end_time": "2023-06-22T04:13:16.921119",
     "exception": false,
     "start_time": "2023-06-22T04:13:16.801220",
     "status": "completed"
    },
    "tags": []
   },
   "outputs": [
    {
     "data": {
      "text/plain": [
       "((270, 13), (216, 13), (54, 13))"
      ]
     },
     "execution_count": 55,
     "metadata": {},
     "output_type": "execute_result"
    }
   ],
   "source": [
    "X.shape, X_train.shape, X_test.shape"
   ]
  },
  {
   "cell_type": "code",
   "execution_count": 56,
   "id": "348cc2a5",
   "metadata": {
    "execution": {
     "iopub.execute_input": "2023-06-22T04:13:17.136805Z",
     "iopub.status.busy": "2023-06-22T04:13:17.135696Z",
     "iopub.status.idle": "2023-06-22T04:13:17.145006Z",
     "shell.execute_reply": "2023-06-22T04:13:17.143858Z"
    },
    "papermill": {
     "duration": 0.120931,
     "end_time": "2023-06-22T04:13:17.147591",
     "exception": false,
     "start_time": "2023-06-22T04:13:17.026660",
     "status": "completed"
    },
    "tags": []
   },
   "outputs": [
    {
     "data": {
      "text/plain": [
       "((270,), (216,), (54,))"
      ]
     },
     "execution_count": 56,
     "metadata": {},
     "output_type": "execute_result"
    }
   ],
   "source": [
    "Y.shape, Y_train.shape, Y_test.shape"
   ]
  },
  {
   "cell_type": "markdown",
   "id": "6e1c9053",
   "metadata": {
    "papermill": {
     "duration": 0.105572,
     "end_time": "2023-06-22T04:13:17.360351",
     "exception": false,
     "start_time": "2023-06-22T04:13:17.254779",
     "status": "completed"
    },
    "tags": []
   },
   "source": [
    "# Model Training\n",
    "This step performs feature selection and regression using LogisticRegression from scikit-learn\n",
    "## Logistic Regression"
   ]
  },
  {
   "cell_type": "code",
   "execution_count": 57,
   "id": "5b468f8d",
   "metadata": {
    "execution": {
     "iopub.execute_input": "2023-06-22T04:13:17.581736Z",
     "iopub.status.busy": "2023-06-22T04:13:17.580561Z",
     "iopub.status.idle": "2023-06-22T04:13:17.587163Z",
     "shell.execute_reply": "2023-06-22T04:13:17.585887Z"
    },
    "papermill": {
     "duration": 0.118218,
     "end_time": "2023-06-22T04:13:17.589501",
     "exception": false,
     "start_time": "2023-06-22T04:13:17.471283",
     "status": "completed"
    },
    "tags": []
   },
   "outputs": [],
   "source": [
    "model = LogisticRegression()"
   ]
  },
  {
   "cell_type": "code",
   "execution_count": 58,
   "id": "e8c9baa6",
   "metadata": {
    "execution": {
     "iopub.execute_input": "2023-06-22T04:13:17.806717Z",
     "iopub.status.busy": "2023-06-22T04:13:17.806306Z",
     "iopub.status.idle": "2023-06-22T04:13:17.819621Z",
     "shell.execute_reply": "2023-06-22T04:13:17.818400Z"
    },
    "papermill": {
     "duration": 0.125313,
     "end_time": "2023-06-22T04:13:17.822356",
     "exception": false,
     "start_time": "2023-06-22T04:13:17.697043",
     "status": "completed"
    },
    "tags": []
   },
   "outputs": [
    {
     "data": {
      "text/plain": [
       "LogisticRegression()"
      ]
     },
     "execution_count": 58,
     "metadata": {},
     "output_type": "execute_result"
    }
   ],
   "source": [
    "model"
   ]
  },
  {
   "cell_type": "code",
   "execution_count": 59,
   "id": "6cf300c6",
   "metadata": {
    "execution": {
     "iopub.execute_input": "2023-06-22T04:13:18.072610Z",
     "iopub.status.busy": "2023-06-22T04:13:18.071812Z",
     "iopub.status.idle": "2023-06-22T04:13:18.104221Z",
     "shell.execute_reply": "2023-06-22T04:13:18.102935Z"
    },
    "papermill": {
     "duration": 0.155101,
     "end_time": "2023-06-22T04:13:18.106793",
     "exception": false,
     "start_time": "2023-06-22T04:13:17.951692",
     "status": "completed"
    },
    "tags": []
   },
   "outputs": [
    {
     "data": {
      "text/plain": [
       "LogisticRegression()"
      ]
     },
     "execution_count": 59,
     "metadata": {},
     "output_type": "execute_result"
    }
   ],
   "source": [
    "# training the LogisticREgression model with training data\n",
    "model.fit(X_train, Y_train)"
   ]
  },
  {
   "cell_type": "markdown",
   "id": "6cd46efb",
   "metadata": {
    "papermill": {
     "duration": 0.112209,
     "end_time": "2023-06-22T04:13:18.333124",
     "exception": false,
     "start_time": "2023-06-22T04:13:18.220915",
     "status": "completed"
    },
    "tags": []
   },
   "source": [
    "# Model Evaluation\n",
    "\n",
    "This step evaluates the Linear regression model by computing accuracy score using the testing data."
   ]
  },
  {
   "cell_type": "markdown",
   "id": "59b78d70",
   "metadata": {
    "papermill": {
     "duration": 0.114306,
     "end_time": "2023-06-22T04:13:18.561908",
     "exception": false,
     "start_time": "2023-06-22T04:13:18.447602",
     "status": "completed"
    },
    "tags": []
   },
   "source": [
    "# Accuracy Score"
   ]
  },
  {
   "cell_type": "code",
   "execution_count": 60,
   "id": "8b0b2c38",
   "metadata": {
    "execution": {
     "iopub.execute_input": "2023-06-22T04:13:18.793436Z",
     "iopub.status.busy": "2023-06-22T04:13:18.792624Z",
     "iopub.status.idle": "2023-06-22T04:13:18.802074Z",
     "shell.execute_reply": "2023-06-22T04:13:18.800621Z"
    },
    "papermill": {
     "duration": 0.129558,
     "end_time": "2023-06-22T04:13:18.805266",
     "exception": false,
     "start_time": "2023-06-22T04:13:18.675708",
     "status": "completed"
    },
    "tags": []
   },
   "outputs": [],
   "source": [
    "# accuracy on training data\n",
    "X_train_prediction = model.predict(X_train)\n",
    "training_data_accuracy = accuracy_score(X_train_prediction, Y_train)"
   ]
  },
  {
   "cell_type": "code",
   "execution_count": 61,
   "id": "7ea0effa",
   "metadata": {
    "execution": {
     "iopub.execute_input": "2023-06-22T04:13:19.059978Z",
     "iopub.status.busy": "2023-06-22T04:13:19.059521Z",
     "iopub.status.idle": "2023-06-22T04:13:19.065104Z",
     "shell.execute_reply": "2023-06-22T04:13:19.064049Z"
    },
    "papermill": {
     "duration": 0.140053,
     "end_time": "2023-06-22T04:13:19.068586",
     "exception": false,
     "start_time": "2023-06-22T04:13:18.928533",
     "status": "completed"
    },
    "tags": []
   },
   "outputs": [
    {
     "name": "stdout",
     "output_type": "stream",
     "text": [
      "Accuracy on Training Data: 0.875\n"
     ]
    }
   ],
   "source": [
    "print('Accuracy on Training Data:',training_data_accuracy)"
   ]
  },
  {
   "cell_type": "code",
   "execution_count": 62,
   "id": "bb9e42b4",
   "metadata": {
    "execution": {
     "iopub.execute_input": "2023-06-22T04:13:19.317921Z",
     "iopub.status.busy": "2023-06-22T04:13:19.316942Z",
     "iopub.status.idle": "2023-06-22T04:13:19.325336Z",
     "shell.execute_reply": "2023-06-22T04:13:19.324257Z"
    },
    "papermill": {
     "duration": 0.133855,
     "end_time": "2023-06-22T04:13:19.327823",
     "exception": false,
     "start_time": "2023-06-22T04:13:19.193968",
     "status": "completed"
    },
    "tags": []
   },
   "outputs": [],
   "source": [
    "# accuracy on test data\n",
    "X_test_prediction = model.predict(X_test)\n",
    "test_data_accuracy = accuracy_score(X_test_prediction, Y_test)"
   ]
  },
  {
   "cell_type": "code",
   "execution_count": 63,
   "id": "a6abe1c1",
   "metadata": {
    "execution": {
     "iopub.execute_input": "2023-06-22T04:13:19.572878Z",
     "iopub.status.busy": "2023-06-22T04:13:19.571248Z",
     "iopub.status.idle": "2023-06-22T04:13:19.579461Z",
     "shell.execute_reply": "2023-06-22T04:13:19.578471Z"
    },
    "papermill": {
     "duration": 0.131174,
     "end_time": "2023-06-22T04:13:19.581934",
     "exception": false,
     "start_time": "2023-06-22T04:13:19.450760",
     "status": "completed"
    },
    "tags": []
   },
   "outputs": [
    {
     "name": "stdout",
     "output_type": "stream",
     "text": [
      "Accuracy on test Data: 0.8333333333333334\n"
     ]
    }
   ],
   "source": [
    "print('Accuracy on test Data:',test_data_accuracy)"
   ]
  },
  {
   "cell_type": "markdown",
   "id": "d156dbe2",
   "metadata": {
    "papermill": {
     "duration": 0.114078,
     "end_time": "2023-06-22T04:13:19.814513",
     "exception": false,
     "start_time": "2023-06-22T04:13:19.700435",
     "status": "completed"
    },
    "tags": []
   },
   "source": [
    "# Building a Predictive System"
   ]
  },
  {
   "cell_type": "code",
   "execution_count": 64,
   "id": "74011ac0",
   "metadata": {
    "execution": {
     "iopub.execute_input": "2023-06-22T04:13:20.046006Z",
     "iopub.status.busy": "2023-06-22T04:13:20.044862Z",
     "iopub.status.idle": "2023-06-22T04:13:20.056533Z",
     "shell.execute_reply": "2023-06-22T04:13:20.054987Z"
    },
    "papermill": {
     "duration": 0.128872,
     "end_time": "2023-06-22T04:13:20.058987",
     "exception": false,
     "start_time": "2023-06-22T04:13:19.930115",
     "status": "completed"
    },
    "scrolled": true,
    "tags": []
   },
   "outputs": [
    {
     "name": "stdout",
     "output_type": "stream",
     "text": [
      "The Person 1 has a Heart Disease\n",
      "\n",
      "The Person 2 does not have a Heart Disease\n",
      "\n"
     ]
    }
   ],
   "source": [
    "input_data_1 =(59,1,4,110,239,0,2,142,1,1.2,2,1,7)\n",
    "input_data_2 =(67,0,3,115,564,0,2,160,0,1.6,2,0,7)\n",
    "# change the input data to a numpy array\n",
    "input_data_1_as_numpy_array = np.asarray(input_data_1)\n",
    "input_data_2_as_numpy_array = np.asarray(input_data_2)\n",
    "\n",
    "# reshape the numpy array as we are predicting for only on instance\n",
    "input_data_1_reshaped =input_data_1_as_numpy_array.reshape(1,-1)\n",
    "input_data_2_reshaped =input_data_2_as_numpy_array.reshape(1,-1)\n",
    "prediction_1 = model.predict(input_data_1_reshaped)\n",
    "prediction_2 = model.predict(input_data_2_reshaped)\n",
    "\n",
    "lis=[]\n",
    "lis.append(prediction_1)\n",
    "lis.append(prediction_2)\n",
    "\n",
    "for i in range(len(lis)):\n",
    "    if(lis[i] == 0):\n",
    "        print(\"The Person\",i+1,\"does not have a Heart Disease\\n\")\n",
    "    else:\n",
    "        print(\"The Person\", i+1, \"has a Heart Disease\\n\")"
   ]
  }
 ],
 "metadata": {
  "kernelspec": {
   "display_name": "Python 3 (ipykernel)",
   "language": "python",
   "name": "python3"
  },
  "language_info": {
   "codemirror_mode": {
    "name": "ipython",
    "version": 3
   },
   "file_extension": ".py",
   "mimetype": "text/x-python",
   "name": "python",
   "nbconvert_exporter": "python",
   "pygments_lexer": "ipython3",
   "version": "3.7.16"
  },
  "papermill": {
   "default_parameters": {},
   "duration": 136.359026,
   "end_time": "2023-06-22T04:13:23.546203",
   "environment_variables": {},
   "exception": null,
   "input_path": "__notebook__.ipynb",
   "output_path": "__notebook__.ipynb",
   "parameters": {},
   "start_time": "2023-06-22T04:11:07.187177",
   "version": "2.4.0"
  }
 },
 "nbformat": 4,
 "nbformat_minor": 5
}
