{
 "cells": [
  {
   "cell_type": "code",
   "execution_count": null,
   "id": "c0175e9a",
   "metadata": {},
   "outputs": [
    {
     "ename": "",
     "evalue": "",
     "output_type": "error",
     "traceback": [
      "\u001b[1;31mRunning cells with 'c:\\Users\\UDAY KUMAR CHINNI\\AppData\\Local\\Programs\\Python\\Python311\\python.exe' requires the ipykernel package.\n",
      "\u001b[1;31mRun the following command to install 'ipykernel' into the Python environment. \n",
      "\u001b[1;31mCommand: '\"c:/Users/UDAY KUMAR CHINNI/AppData/Local/Programs/Python/Python311/python.exe\" -m pip install ipykernel -U --user --force-reinstall'"
     ]
    }
   ],
   "source": [
    "import numpy as np \n",
    "import pandas as pd\n",
    "from sklearn.utils import shuffle\n",
    "from sklearn.model_selection import train_test_split\n",
    "from sklearn.tree import DecisionTreeClassifier,DecisionTreeRegressor\n"
   ]
  },
  {
   "cell_type": "code",
   "execution_count": 5,
   "id": "30f4fb5a",
   "metadata": {},
   "outputs": [],
   "source": [
    "dataset = shuffle(np.array(pd.read_csv(\"C:\\\\Users\\\\91903\\\\Desktop\\\\ML\\\\breast Cancer\\\\dataset.csv\",header=1)))\n",
    "\n",
    "#data frame\n",
    "\n",
    "data_frame = pd.read_csv(\"C:\\\\Users\\\\91903\\\\Desktop\\\\ML\\\\breast Cancer\\\\dataset.csv\",header=1)\n",
    "data_frame.drop(data_frame.columns[[0]], axis=1, inplace=True)\n",
    "dataset = shuffle(np.array(data_frame))\n"
   ]
  },
  {
   "cell_type": "code",
   "execution_count": 6,
   "id": "80df4af6",
   "metadata": {},
   "outputs": [],
   "source": [
    "extracted_dataset= []\n",
    "target = []\n",
    "\n",
    "#extract target column\n",
    "for row in dataset:\n",
    "    extracted_dataset.append(row[1:])\n",
    "    if row[0] == 'B':\n",
    "        target.append(0)\n",
    "    else:\n",
    "        target.append(1)\n"
   ]
  },
  {
   "cell_type": "code",
   "execution_count": 7,
   "id": "1be594e2",
   "metadata": {},
   "outputs": [],
   "source": [
    "X_train, X_test, Y_train, Y_test= train_test_split(extracted_dataset,target,test_size=0.3)\n",
    "\n"
   ]
  },
  {
   "cell_type": "code",
   "execution_count": 8,
   "id": "7382b8b9",
   "metadata": {},
   "outputs": [],
   "source": [
    "clf_entropy = DecisionTreeClassifier(criterion = \"entropy\", max_depth = 50)\n",
    "clf_entropy .fit(X_train,Y_train)\n",
    "\n",
    "\n",
    "\n",
    "predicted_entropy = clf_entropy .predict(X_test)\n"
   ]
  },
  {
   "cell_type": "code",
   "execution_count": 10,
   "id": "1a937ca6",
   "metadata": {},
   "outputs": [
    {
     "data": {
      "text/plain": [
       "0.9590643274853801"
      ]
     },
     "execution_count": 10,
     "metadata": {},
     "output_type": "execute_result"
    }
   ],
   "source": [
    "from sklearn.metrics import accuracy_score\n",
    "accuracy_score(Y_test,predicted_entropy,normalize=True)\n"
   ]
  },
  {
   "cell_type": "code",
   "execution_count": null,
   "id": "ea4f2ab6",
   "metadata": {},
   "outputs": [],
   "source": []
  }
 ],
 "metadata": {
  "kernelspec": {
   "display_name": "Python 3 (ipykernel)",
   "language": "python",
   "name": "python3"
  },
  "language_info": {
   "codemirror_mode": {
    "name": "ipython",
    "version": 3
   },
   "file_extension": ".py",
   "mimetype": "text/x-python",
   "name": "python",
   "nbconvert_exporter": "python",
   "pygments_lexer": "ipython3",
   "version": "3.11.0"
  }
 },
 "nbformat": 4,
 "nbformat_minor": 5
}
